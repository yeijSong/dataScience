{
  "nbformat": 4,
  "nbformat_minor": 0,
  "metadata": {
    "colab": {
      "name": "04_데이터 시리즈와 프레임 다루기.ipynb",
      "provenance": [],
      "collapsed_sections": [],
      "authorship_tag": "ABX9TyNpJiHNfOjvNoTrwXD4tryS",
      "include_colab_link": true
    },
    "kernelspec": {
      "name": "python3",
      "display_name": "Python 3"
    },
    "language_info": {
      "name": "python"
    }
  },
  "cells": [
    {
      "cell_type": "markdown",
      "metadata": {
        "id": "view-in-github",
        "colab_type": "text"
      },
      "source": [
        "<a href=\"https://colab.research.google.com/github/yeijSong/dataScience/blob/main/04_%EB%8D%B0%EC%9D%B4%ED%84%B0_%EC%8B%9C%EB%A6%AC%EC%A6%88%EC%99%80_%ED%94%84%EB%A0%88%EC%9E%84_%EB%8B%A4%EB%A3%A8%EA%B8%B0.ipynb\" target=\"_parent\"><img src=\"https://colab.research.google.com/assets/colab-badge.svg\" alt=\"Open In Colab\"/></a>"
      ]
    },
    {
      "cell_type": "markdown",
      "metadata": {
        "id": "4dL-zA4B5QCz"
      },
      "source": [
        "데이터 준비하기"
      ]
    },
    {
      "cell_type": "code",
      "metadata": {
        "colab": {
          "base_uri": "https://localhost:8080/",
          "height": 172
        },
        "id": "eODdGCT23Rk4",
        "outputId": "6bccacc2-7461-49d8-93ac-ebf30cfa0953"
      },
      "source": [
        "import pandas as pd\n",
        "\n",
        "# niaaa-report2009.csv; 미국 국립 알코올 남용 및 중독 연구소에서 발표한 2011년 실태조사 보고서 중 2009년 1년치 데이터\n",
        "alco2009=pd.read_csv('/content/niaaa-report2009.csv',index_col='State')\n",
        "alco2009.head(3)"
      ],
      "execution_count": null,
      "outputs": [
        {
          "output_type": "execute_result",
          "data": {
            "text/html": [
              "<div>\n",
              "<style scoped>\n",
              "    .dataframe tbody tr th:only-of-type {\n",
              "        vertical-align: middle;\n",
              "    }\n",
              "\n",
              "    .dataframe tbody tr th {\n",
              "        vertical-align: top;\n",
              "    }\n",
              "\n",
              "    .dataframe thead th {\n",
              "        text-align: right;\n",
              "    }\n",
              "</style>\n",
              "<table border=\"1\" class=\"dataframe\">\n",
              "  <thead>\n",
              "    <tr style=\"text-align: right;\">\n",
              "      <th></th>\n",
              "      <th>Beer</th>\n",
              "      <th>Wine</th>\n",
              "      <th>Spirits</th>\n",
              "    </tr>\n",
              "    <tr>\n",
              "      <th>State</th>\n",
              "      <th></th>\n",
              "      <th></th>\n",
              "      <th></th>\n",
              "    </tr>\n",
              "  </thead>\n",
              "  <tbody>\n",
              "    <tr>\n",
              "      <th>Alabama</th>\n",
              "      <td>1.20</td>\n",
              "      <td>0.22</td>\n",
              "      <td>0.58</td>\n",
              "    </tr>\n",
              "    <tr>\n",
              "      <th>Alaska</th>\n",
              "      <td>1.31</td>\n",
              "      <td>0.54</td>\n",
              "      <td>1.16</td>\n",
              "    </tr>\n",
              "    <tr>\n",
              "      <th>Arizona</th>\n",
              "      <td>1.19</td>\n",
              "      <td>0.38</td>\n",
              "      <td>0.74</td>\n",
              "    </tr>\n",
              "  </tbody>\n",
              "</table>\n",
              "</div>"
            ],
            "text/plain": [
              "         Beer  Wine  Spirits\n",
              "State                       \n",
              "Alabama  1.20  0.22     0.58\n",
              "Alaska   1.31  0.54     1.16\n",
              "Arizona  1.19  0.38     0.74"
            ]
          },
          "metadata": {
            "tags": []
          },
          "execution_count": 4
        }
      ]
    },
    {
      "cell_type": "code",
      "metadata": {
        "colab": {
          "base_uri": "https://localhost:8080/",
          "height": 172
        },
        "id": "x2pLx2ja5jPz",
        "outputId": "990c9ce2-ea95-4e5f-d5ad-53cd16980d13"
      },
      "source": [
        "alco2009.tail(3)"
      ],
      "execution_count": null,
      "outputs": [
        {
          "output_type": "execute_result",
          "data": {
            "text/html": [
              "<div>\n",
              "<style scoped>\n",
              "    .dataframe tbody tr th:only-of-type {\n",
              "        vertical-align: middle;\n",
              "    }\n",
              "\n",
              "    .dataframe tbody tr th {\n",
              "        vertical-align: top;\n",
              "    }\n",
              "\n",
              "    .dataframe thead th {\n",
              "        text-align: right;\n",
              "    }\n",
              "</style>\n",
              "<table border=\"1\" class=\"dataframe\">\n",
              "  <thead>\n",
              "    <tr style=\"text-align: right;\">\n",
              "      <th></th>\n",
              "      <th>Beer</th>\n",
              "      <th>Wine</th>\n",
              "      <th>Spirits</th>\n",
              "    </tr>\n",
              "    <tr>\n",
              "      <th>State</th>\n",
              "      <th></th>\n",
              "      <th></th>\n",
              "      <th></th>\n",
              "    </tr>\n",
              "  </thead>\n",
              "  <tbody>\n",
              "    <tr>\n",
              "      <th>West Virginia</th>\n",
              "      <td>1.24</td>\n",
              "      <td>0.10</td>\n",
              "      <td>0.45</td>\n",
              "    </tr>\n",
              "    <tr>\n",
              "      <th>Wisconsin</th>\n",
              "      <td>1.49</td>\n",
              "      <td>0.31</td>\n",
              "      <td>1.16</td>\n",
              "    </tr>\n",
              "    <tr>\n",
              "      <th>Wyoming</th>\n",
              "      <td>1.45</td>\n",
              "      <td>0.22</td>\n",
              "      <td>1.10</td>\n",
              "    </tr>\n",
              "  </tbody>\n",
              "</table>\n",
              "</div>"
            ],
            "text/plain": [
              "               Beer  Wine  Spirits\n",
              "State                             \n",
              "West Virginia  1.24  0.10     0.45\n",
              "Wisconsin      1.49  0.31     1.16\n",
              "Wyoming        1.45  0.22     1.10"
            ]
          },
          "metadata": {
            "tags": []
          },
          "execution_count": 5
        }
      ]
    },
    {
      "cell_type": "code",
      "metadata": {
        "colab": {
          "base_uri": "https://localhost:8080/"
        },
        "id": "U7uLCLkl56D_",
        "outputId": "9643404f-a531-4017-8ee0-e6913544371c"
      },
      "source": [
        "alco2009.size # row*column"
      ],
      "execution_count": null,
      "outputs": [
        {
          "output_type": "execute_result",
          "data": {
            "text/plain": [
              "153"
            ]
          },
          "metadata": {
            "tags": []
          },
          "execution_count": 6
        }
      ]
    },
    {
      "cell_type": "code",
      "metadata": {
        "colab": {
          "base_uri": "https://localhost:8080/"
        },
        "id": "v5aZVzvP6Jqw",
        "outputId": "beef97ce-e026-45b5-b7a7-617560e9f506"
      },
      "source": [
        "alco2009.info()"
      ],
      "execution_count": null,
      "outputs": [
        {
          "output_type": "stream",
          "text": [
            "<class 'pandas.core.frame.DataFrame'>\n",
            "Index: 51 entries, Alabama to Wyoming\n",
            "Data columns (total 3 columns):\n",
            " #   Column   Non-Null Count  Dtype  \n",
            "---  ------   --------------  -----  \n",
            " 0   Beer     51 non-null     float64\n",
            " 1   Wine     51 non-null     float64\n",
            " 2   Spirits  51 non-null     float64\n",
            "dtypes: float64(3)\n",
            "memory usage: 1.6+ KB\n"
          ],
          "name": "stdout"
        }
      ]
    },
    {
      "cell_type": "code",
      "metadata": {
        "colab": {
          "base_uri": "https://localhost:8080/"
        },
        "id": "F3UOHFXb6Q-K",
        "outputId": "8c272e25-e2e1-471d-cfed-c6c78aeeb561"
      },
      "source": [
        "alco2009.shape"
      ],
      "execution_count": null,
      "outputs": [
        {
          "output_type": "execute_result",
          "data": {
            "text/plain": [
              "(51, 3)"
            ]
          },
          "metadata": {
            "tags": []
          },
          "execution_count": 9
        }
      ]
    },
    {
      "cell_type": "code",
      "metadata": {
        "colab": {
          "base_uri": "https://localhost:8080/"
        },
        "id": "MJp9HStT6TsX",
        "outputId": "faaf6cd2-9d4c-45f6-f9da-ebc9aa36359d"
      },
      "source": [
        "alco2009['Wine'].head()"
      ],
      "execution_count": null,
      "outputs": [
        {
          "output_type": "execute_result",
          "data": {
            "text/plain": [
              "State\n",
              "Alabama       0.22\n",
              "Alaska        0.54\n",
              "Arizona       0.38\n",
              "Arkansas      0.17\n",
              "California    0.55\n",
              "Name: Wine, dtype: float64"
            ]
          },
          "metadata": {
            "tags": []
          },
          "execution_count": 10
        }
      ]
    },
    {
      "cell_type": "code",
      "metadata": {
        "colab": {
          "base_uri": "https://localhost:8080/"
        },
        "id": "p97y1oTC6nZ_",
        "outputId": "201c19f7-8026-406d-d24a-bab541fbde67"
      },
      "source": [
        "alco2009.Wine.head()"
      ],
      "execution_count": null,
      "outputs": [
        {
          "output_type": "execute_result",
          "data": {
            "text/plain": [
              "State\n",
              "Alabama       0.22\n",
              "Alaska        0.54\n",
              "Arizona       0.38\n",
              "Arkansas      0.17\n",
              "California    0.55\n",
              "Name: Wine, dtype: float64"
            ]
          },
          "metadata": {
            "tags": []
          },
          "execution_count": 11
        }
      ]
    },
    {
      "cell_type": "code",
      "metadata": {
        "colab": {
          "base_uri": "https://localhost:8080/"
        },
        "id": "eqQyNSuk6vgh",
        "outputId": "83ccd7e7-50db-4e70-c6a2-d79b6467c959"
      },
      "source": [
        "alco2009.Beer.tail()"
      ],
      "execution_count": null,
      "outputs": [
        {
          "output_type": "execute_result",
          "data": {
            "text/plain": [
              "State\n",
              "Virginia         1.11\n",
              "Washington       1.09\n",
              "West Virginia    1.24\n",
              "Wisconsin        1.49\n",
              "Wyoming          1.45\n",
              "Name: Beer, dtype: float64"
            ]
          },
          "metadata": {
            "tags": []
          },
          "execution_count": 12
        }
      ]
    },
    {
      "cell_type": "code",
      "metadata": {
        "colab": {
          "base_uri": "https://localhost:8080/",
          "height": 172
        },
        "id": "05FXQv286z_j",
        "outputId": "a1ace9d4-8cac-4490-e02d-0c0419fe8980"
      },
      "source": [
        "# 새로운 열 추가\n",
        "alco2009['Total'] = 0\n",
        "alco2009.head(3)"
      ],
      "execution_count": null,
      "outputs": [
        {
          "output_type": "execute_result",
          "data": {
            "text/html": [
              "<div>\n",
              "<style scoped>\n",
              "    .dataframe tbody tr th:only-of-type {\n",
              "        vertical-align: middle;\n",
              "    }\n",
              "\n",
              "    .dataframe tbody tr th {\n",
              "        vertical-align: top;\n",
              "    }\n",
              "\n",
              "    .dataframe thead th {\n",
              "        text-align: right;\n",
              "    }\n",
              "</style>\n",
              "<table border=\"1\" class=\"dataframe\">\n",
              "  <thead>\n",
              "    <tr style=\"text-align: right;\">\n",
              "      <th></th>\n",
              "      <th>Beer</th>\n",
              "      <th>Wine</th>\n",
              "      <th>Spirits</th>\n",
              "      <th>Total</th>\n",
              "    </tr>\n",
              "    <tr>\n",
              "      <th>State</th>\n",
              "      <th></th>\n",
              "      <th></th>\n",
              "      <th></th>\n",
              "      <th></th>\n",
              "    </tr>\n",
              "  </thead>\n",
              "  <tbody>\n",
              "    <tr>\n",
              "      <th>Alabama</th>\n",
              "      <td>1.20</td>\n",
              "      <td>0.22</td>\n",
              "      <td>0.58</td>\n",
              "      <td>0</td>\n",
              "    </tr>\n",
              "    <tr>\n",
              "      <th>Alaska</th>\n",
              "      <td>1.31</td>\n",
              "      <td>0.54</td>\n",
              "      <td>1.16</td>\n",
              "      <td>0</td>\n",
              "    </tr>\n",
              "    <tr>\n",
              "      <th>Arizona</th>\n",
              "      <td>1.19</td>\n",
              "      <td>0.38</td>\n",
              "      <td>0.74</td>\n",
              "      <td>0</td>\n",
              "    </tr>\n",
              "  </tbody>\n",
              "</table>\n",
              "</div>"
            ],
            "text/plain": [
              "         Beer  Wine  Spirits  Total\n",
              "State                              \n",
              "Alabama  1.20  0.22     0.58      0\n",
              "Alaska   1.31  0.54     1.16      0\n",
              "Arizona  1.19  0.38     0.74      0"
            ]
          },
          "metadata": {
            "tags": []
          },
          "execution_count": 15
        }
      ]
    },
    {
      "cell_type": "code",
      "metadata": {
        "colab": {
          "base_uri": "https://localhost:8080/",
          "height": 234
        },
        "id": "Axf1K5mT7HUD",
        "outputId": "fd5a1881-7e59-4fdd-fb6c-f7ab3bb8a737"
      },
      "source": [
        "# 인덱스 변경하기 (어떤 열이라도 데이터 프레임의 인덱스가 될 수 있음)\n",
        "alco2009.reset_index().set_index('Beer').head()"
      ],
      "execution_count": null,
      "outputs": [
        {
          "output_type": "execute_result",
          "data": {
            "text/html": [
              "<div>\n",
              "<style scoped>\n",
              "    .dataframe tbody tr th:only-of-type {\n",
              "        vertical-align: middle;\n",
              "    }\n",
              "\n",
              "    .dataframe tbody tr th {\n",
              "        vertical-align: top;\n",
              "    }\n",
              "\n",
              "    .dataframe thead th {\n",
              "        text-align: right;\n",
              "    }\n",
              "</style>\n",
              "<table border=\"1\" class=\"dataframe\">\n",
              "  <thead>\n",
              "    <tr style=\"text-align: right;\">\n",
              "      <th></th>\n",
              "      <th>State</th>\n",
              "      <th>Wine</th>\n",
              "      <th>Spirits</th>\n",
              "      <th>Total</th>\n",
              "    </tr>\n",
              "    <tr>\n",
              "      <th>Beer</th>\n",
              "      <th></th>\n",
              "      <th></th>\n",
              "      <th></th>\n",
              "      <th></th>\n",
              "    </tr>\n",
              "  </thead>\n",
              "  <tbody>\n",
              "    <tr>\n",
              "      <th>1.20</th>\n",
              "      <td>Alabama</td>\n",
              "      <td>0.22</td>\n",
              "      <td>0.58</td>\n",
              "      <td>0</td>\n",
              "    </tr>\n",
              "    <tr>\n",
              "      <th>1.31</th>\n",
              "      <td>Alaska</td>\n",
              "      <td>0.54</td>\n",
              "      <td>1.16</td>\n",
              "      <td>0</td>\n",
              "    </tr>\n",
              "    <tr>\n",
              "      <th>1.19</th>\n",
              "      <td>Arizona</td>\n",
              "      <td>0.38</td>\n",
              "      <td>0.74</td>\n",
              "      <td>0</td>\n",
              "    </tr>\n",
              "    <tr>\n",
              "      <th>1.07</th>\n",
              "      <td>Arkansas</td>\n",
              "      <td>0.17</td>\n",
              "      <td>0.60</td>\n",
              "      <td>0</td>\n",
              "    </tr>\n",
              "    <tr>\n",
              "      <th>1.05</th>\n",
              "      <td>California</td>\n",
              "      <td>0.55</td>\n",
              "      <td>0.73</td>\n",
              "      <td>0</td>\n",
              "    </tr>\n",
              "  </tbody>\n",
              "</table>\n",
              "</div>"
            ],
            "text/plain": [
              "           State  Wine  Spirits  Total\n",
              "Beer                                  \n",
              "1.20     Alabama  0.22     0.58      0\n",
              "1.31      Alaska  0.54     1.16      0\n",
              "1.19     Arizona  0.38     0.74      0\n",
              "1.07    Arkansas  0.17     0.60      0\n",
              "1.05  California  0.55     0.73      0"
            ]
          },
          "metadata": {
            "tags": []
          },
          "execution_count": 17
        }
      ]
    },
    {
      "cell_type": "code",
      "metadata": {
        "colab": {
          "base_uri": "https://localhost:8080/",
          "height": 234
        },
        "id": "4X3wSF-177WV",
        "outputId": "82a282e3-43c3-49b9-f92c-b4817db50838"
      },
      "source": [
        "alco2009.reset_index().set_index('State').head()"
      ],
      "execution_count": null,
      "outputs": [
        {
          "output_type": "execute_result",
          "data": {
            "text/html": [
              "<div>\n",
              "<style scoped>\n",
              "    .dataframe tbody tr th:only-of-type {\n",
              "        vertical-align: middle;\n",
              "    }\n",
              "\n",
              "    .dataframe tbody tr th {\n",
              "        vertical-align: top;\n",
              "    }\n",
              "\n",
              "    .dataframe thead th {\n",
              "        text-align: right;\n",
              "    }\n",
              "</style>\n",
              "<table border=\"1\" class=\"dataframe\">\n",
              "  <thead>\n",
              "    <tr style=\"text-align: right;\">\n",
              "      <th></th>\n",
              "      <th>Beer</th>\n",
              "      <th>Wine</th>\n",
              "      <th>Spirits</th>\n",
              "      <th>Total</th>\n",
              "    </tr>\n",
              "    <tr>\n",
              "      <th>State</th>\n",
              "      <th></th>\n",
              "      <th></th>\n",
              "      <th></th>\n",
              "      <th></th>\n",
              "    </tr>\n",
              "  </thead>\n",
              "  <tbody>\n",
              "    <tr>\n",
              "      <th>Alabama</th>\n",
              "      <td>1.20</td>\n",
              "      <td>0.22</td>\n",
              "      <td>0.58</td>\n",
              "      <td>0</td>\n",
              "    </tr>\n",
              "    <tr>\n",
              "      <th>Alaska</th>\n",
              "      <td>1.31</td>\n",
              "      <td>0.54</td>\n",
              "      <td>1.16</td>\n",
              "      <td>0</td>\n",
              "    </tr>\n",
              "    <tr>\n",
              "      <th>Arizona</th>\n",
              "      <td>1.19</td>\n",
              "      <td>0.38</td>\n",
              "      <td>0.74</td>\n",
              "      <td>0</td>\n",
              "    </tr>\n",
              "    <tr>\n",
              "      <th>Arkansas</th>\n",
              "      <td>1.07</td>\n",
              "      <td>0.17</td>\n",
              "      <td>0.60</td>\n",
              "      <td>0</td>\n",
              "    </tr>\n",
              "    <tr>\n",
              "      <th>California</th>\n",
              "      <td>1.05</td>\n",
              "      <td>0.55</td>\n",
              "      <td>0.73</td>\n",
              "      <td>0</td>\n",
              "    </tr>\n",
              "  </tbody>\n",
              "</table>\n",
              "</div>"
            ],
            "text/plain": [
              "            Beer  Wine  Spirits  Total\n",
              "State                                 \n",
              "Alabama     1.20  0.22     0.58      0\n",
              "Alaska      1.31  0.54     1.16      0\n",
              "Arizona     1.19  0.38     0.74      0\n",
              "Arkansas    1.07  0.17     0.60      0\n",
              "California  1.05  0.55     0.73      0"
            ]
          },
          "metadata": {
            "tags": []
          },
          "execution_count": 18
        }
      ]
    },
    {
      "cell_type": "code",
      "metadata": {
        "colab": {
          "base_uri": "https://localhost:8080/"
        },
        "id": "K8VmHq5W8JS0",
        "outputId": "ea87a0b9-a3ae-4940-d937-e44bc0ba822a"
      },
      "source": [
        "alco2009.loc['Nebraska'] # 책(p132)에는 ix를 사용하라고 되어있지만 현재는 loc로 쓰임"
      ],
      "execution_count": null,
      "outputs": [
        {
          "output_type": "execute_result",
          "data": {
            "text/plain": [
              "Beer       1.46\n",
              "Wine       0.20\n",
              "Spirits    0.68\n",
              "Total      0.00\n",
              "Name: Nebraska, dtype: float64"
            ]
          },
          "metadata": {
            "tags": []
          },
          "execution_count": 19
        }
      ]
    },
    {
      "cell_type": "code",
      "metadata": {
        "colab": {
          "base_uri": "https://localhost:8080/"
        },
        "id": "7_ZFNZx_A3Z0",
        "outputId": "0197e619-aba0-43bb-9a6e-e612b81f0f0a"
      },
      "source": [
        "# in 연산자: 데이터 프레임의 특정 레이블을 가진 행이 있는 지 확인\n",
        "'Samoa' in alco2009.index"
      ],
      "execution_count": null,
      "outputs": [
        {
          "output_type": "execute_result",
          "data": {
            "text/plain": [
              "False"
            ]
          },
          "metadata": {
            "tags": []
          },
          "execution_count": 20
        }
      ]
    },
    {
      "cell_type": "code",
      "metadata": {
        "colab": {
          "base_uri": "https://localhost:8080/"
        },
        "id": "GHJlNcnyBvQA",
        "outputId": "739908fa-322d-4f7f-cfb8-31bc378933aa"
      },
      "source": [
        "'Arizona' in alco2009.index"
      ],
      "execution_count": null,
      "outputs": [
        {
          "output_type": "execute_result",
          "data": {
            "text/plain": [
              "True"
            ]
          },
          "metadata": {
            "tags": []
          },
          "execution_count": 21
        }
      ]
    }
  ]
}
