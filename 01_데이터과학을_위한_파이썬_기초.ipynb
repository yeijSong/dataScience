{
  "nbformat": 4,
  "nbformat_minor": 0,
  "metadata": {
    "colab": {
      "name": "01_데이터과학을 위한 파이썬 기초.ipynb",
      "provenance": [],
      "collapsed_sections": [],
      "authorship_tag": "ABX9TyN2elBk0nvJ+m0UolaudcN0",
      "include_colab_link": true
    },
    "kernelspec": {
      "name": "python3",
      "display_name": "Python 3"
    },
    "language_info": {
      "name": "python"
    }
  },
  "cells": [
    {
      "cell_type": "markdown",
      "metadata": {
        "id": "view-in-github",
        "colab_type": "text"
      },
      "source": [
        "<a href=\"https://colab.research.google.com/github/yeijSong/dataScience/blob/main/01_%EB%8D%B0%EC%9D%B4%ED%84%B0%EA%B3%BC%ED%95%99%EC%9D%84_%EC%9C%84%ED%95%9C_%ED%8C%8C%EC%9D%B4%EC%8D%AC_%EA%B8%B0%EC%B4%88.ipynb\" target=\"_parent\"><img src=\"https://colab.research.google.com/assets/colab-badge.svg\" alt=\"Open In Colab\"/></a>"
      ]
    },
    {
      "cell_type": "markdown",
      "metadata": {
        "id": "g6Qdxe2xv4q9"
      },
      "source": [
        "**strip()** 공백 제거 함수"
      ]
    },
    {
      "cell_type": "code",
      "metadata": {
        "colab": {
          "base_uri": "https://localhost:8080/",
          "height": 35
        },
        "id": "SFvZv3Kfvo6l",
        "outputId": "bb36dca1-b468-43f9-c0bd-3eaf59639913"
      },
      "source": [
        "st='hello, world! \\t\\t\\n'\n",
        "st"
      ],
      "execution_count": null,
      "outputs": [
        {
          "output_type": "execute_result",
          "data": {
            "application/vnd.google.colaboratory.intrinsic+json": {
              "type": "string"
            },
            "text/plain": [
              "'hello, world! \\t\\t\\n'"
            ]
          },
          "metadata": {
            "tags": []
          },
          "execution_count": 1
        }
      ]
    },
    {
      "cell_type": "code",
      "metadata": {
        "colab": {
          "base_uri": "https://localhost:8080/",
          "height": 35
        },
        "id": "7sTnpKAMwP4z",
        "outputId": "cba13135-2604-40bb-92c8-450fbdb1eb87"
      },
      "source": [
        "st.strip() # 모든 공백 제거"
      ],
      "execution_count": null,
      "outputs": [
        {
          "output_type": "execute_result",
          "data": {
            "application/vnd.google.colaboratory.intrinsic+json": {
              "type": "string"
            },
            "text/plain": [
              "'hello, world!'"
            ]
          },
          "metadata": {
            "tags": []
          },
          "execution_count": 3
        }
      ]
    },
    {
      "cell_type": "code",
      "metadata": {
        "colab": {
          "base_uri": "https://localhost:8080/",
          "height": 35
        },
        "id": "KijJZGoiwcGX",
        "outputId": "5871e36f-a2c4-45cc-b407-d8e3d1534088"
      },
      "source": [
        "st.lstrip() # 왼쪽 공백 제거"
      ],
      "execution_count": null,
      "outputs": [
        {
          "output_type": "execute_result",
          "data": {
            "application/vnd.google.colaboratory.intrinsic+json": {
              "type": "string"
            },
            "text/plain": [
              "'hello, world! \\t\\t\\n'"
            ]
          },
          "metadata": {
            "tags": []
          },
          "execution_count": 4
        }
      ]
    },
    {
      "cell_type": "code",
      "metadata": {
        "colab": {
          "base_uri": "https://localhost:8080/",
          "height": 35
        },
        "id": "tVv7Z4qiwz7p",
        "outputId": "652bd908-ba28-4263-ad7d-7f31271fe22c"
      },
      "source": [
        "st.rstrip() # 오른쪽 공백 제거"
      ],
      "execution_count": null,
      "outputs": [
        {
          "output_type": "execute_result",
          "data": {
            "application/vnd.google.colaboratory.intrinsic+json": {
              "type": "string"
            },
            "text/plain": [
              "'hello, world!'"
            ]
          },
          "metadata": {
            "tags": []
          },
          "execution_count": 5
        }
      ]
    },
    {
      "cell_type": "markdown",
      "metadata": {
        "id": "IeDo_-TbxSqX"
      },
      "source": [
        "**split(delim='')** 문자열 자르기 함수"
      ]
    },
    {
      "cell_type": "code",
      "metadata": {
        "colab": {
          "base_uri": "https://localhost:8080/"
        },
        "id": "-0X7yDb0xUEM",
        "outputId": "066dcbc0-efc8-4bc2-8144-5000a8a77456"
      },
      "source": [
        "'hello, world!'.split() # delim 구분자를 지정하지 않으면 -> default로 공백 기준으로 split"
      ],
      "execution_count": null,
      "outputs": [
        {
          "output_type": "execute_result",
          "data": {
            "text/plain": [
              "['hello,', 'world!']"
            ]
          },
          "metadata": {
            "tags": []
          },
          "execution_count": 10
        }
      ]
    },
    {
      "cell_type": "code",
      "metadata": {
        "colab": {
          "base_uri": "https://localhost:8080/"
        },
        "id": "vr9jHCmDxmav",
        "outputId": "c5f9b204-bc12-43b2-8791-626fa313870b"
      },
      "source": [
        "'hello, world!'.split(',')"
      ],
      "execution_count": null,
      "outputs": [
        {
          "output_type": "execute_result",
          "data": {
            "text/plain": [
              "['hello', ' world!']"
            ]
          },
          "metadata": {
            "tags": []
          },
          "execution_count": 9
        }
      ]
    },
    {
      "cell_type": "code",
      "metadata": {
        "colab": {
          "base_uri": "https://localhost:8080/"
        },
        "id": "lIYh6FpsxuiA",
        "outputId": "cefaabf6-2f65-43c9-d297-d2efa8c599d0"
      },
      "source": [
        "'www.networksciencelab.com'.split('.')"
      ],
      "execution_count": null,
      "outputs": [
        {
          "output_type": "execute_result",
          "data": {
            "text/plain": [
              "['www', 'networksciencelab', 'com']"
            ]
          },
          "metadata": {
            "tags": []
          },
          "execution_count": 11
        }
      ]
    },
    {
      "cell_type": "code",
      "metadata": {
        "colab": {
          "base_uri": "https://localhost:8080/",
          "height": 35
        },
        "id": "9OpgrjCPyP7x",
        "outputId": "6e4ca741-16c8-4d86-acec-0a2fc89e1cfd"
      },
      "source": [
        "'www.networksciencelab.com'.split('.')[1]"
      ],
      "execution_count": null,
      "outputs": [
        {
          "output_type": "execute_result",
          "data": {
            "application/vnd.google.colaboratory.intrinsic+json": {
              "type": "string"
            },
            "text/plain": [
              "'networksciencelab'"
            ]
          },
          "metadata": {
            "tags": []
          },
          "execution_count": 12
        }
      ]
    },
    {
      "cell_type": "markdown",
      "metadata": {
        "id": "pYZGhbqByqyX"
      },
      "source": [
        "**join(list(ls))**\n",
        "\n",
        "\n",
        "> 문자열을 연결시키는 함수\n",
        "\n"
      ]
    },
    {
      "cell_type": "code",
      "metadata": {
        "colab": {
          "base_uri": "https://localhost:8080/",
          "height": 35
        },
        "id": "wQJIVYP3y1Hh",
        "outputId": "a1ef3cd7-2818-4c34-aa83-12399709770a"
      },
      "source": [
        "', '.join(['alpha','bravo','charlie','delta']) # 문자열 리스트(ls)를 하나의 문자열로 붙임 -> 문자열 조각을 재조합"
      ],
      "execution_count": null,
      "outputs": [
        {
          "output_type": "execute_result",
          "data": {
            "application/vnd.google.colaboratory.intrinsic+json": {
              "type": "string"
            },
            "text/plain": [
              "'alpha, bravo, charlie, delta'"
            ]
          },
          "metadata": {
            "tags": []
          },
          "execution_count": 16
        }
      ]
    },
    {
      "cell_type": "code",
      "metadata": {
        "colab": {
          "base_uri": "https://localhost:8080/",
          "height": 35
        },
        "id": "GfoMoS5FzDgI",
        "outputId": "465aea80-8092-4338-d65b-0687e16f2d54"
      },
      "source": [
        "' '.join(['alpha','bravo','charlie','delta'])"
      ],
      "execution_count": null,
      "outputs": [
        {
          "output_type": "execute_result",
          "data": {
            "application/vnd.google.colaboratory.intrinsic+json": {
              "type": "string"
            },
            "text/plain": [
              "'alpha bravo charlie delta'"
            ]
          },
          "metadata": {
            "tags": []
          },
          "execution_count": 14
        }
      ]
    },
    {
      "cell_type": "code",
      "metadata": {
        "colab": {
          "base_uri": "https://localhost:8080/",
          "height": 35
        },
        "id": "vcxpINCuzIJk",
        "outputId": "ed905568-4884-45fd-8c8a-282985691808"
      },
      "source": [
        "'-'.join(['alpha','bravo','charlie','delta'])"
      ],
      "execution_count": null,
      "outputs": [
        {
          "output_type": "execute_result",
          "data": {
            "application/vnd.google.colaboratory.intrinsic+json": {
              "type": "string"
            },
            "text/plain": [
              "'alpha-bravo-charlie-delta'"
            ]
          },
          "metadata": {
            "tags": []
          },
          "execution_count": 15
        }
      ]
    },
    {
      "cell_type": "code",
      "metadata": {
        "colab": {
          "base_uri": "https://localhost:8080/"
        },
        "id": "O48lm9kQzeIi",
        "outputId": "a5bea7c5-409e-4106-b3f0-8d2f2a6b639b"
      },
      "source": [
        "'1.617.305.1985'.split('.')"
      ],
      "execution_count": null,
      "outputs": [
        {
          "output_type": "execute_result",
          "data": {
            "text/plain": [
              "['1', '617', '305', '1985']"
            ]
          },
          "metadata": {
            "tags": []
          },
          "execution_count": 17
        }
      ]
    },
    {
      "cell_type": "code",
      "metadata": {
        "colab": {
          "base_uri": "https://localhost:8080/",
          "height": 35
        },
        "id": "YwpKJA3nznq9",
        "outputId": "559bfae9-f0fd-4d10-f97d-d15b61b287fa"
      },
      "source": [
        "'-'.join('1.617.305.1985'.split('.'))"
      ],
      "execution_count": null,
      "outputs": [
        {
          "output_type": "execute_result",
          "data": {
            "application/vnd.google.colaboratory.intrinsic+json": {
              "type": "string"
            },
            "text/plain": [
              "'1-617-305-1985'"
            ]
          },
          "metadata": {
            "tags": []
          },
          "execution_count": 18
        }
      ]
    },
    {
      "cell_type": "code",
      "metadata": {
        "colab": {
          "base_uri": "https://localhost:8080/",
          "height": 35
        },
        "id": "N_iMRuYOz8NR",
        "outputId": "82a19d38-cf9c-48d6-f1a8-349bf631d116"
      },
      "source": [
        "# 1) 구분자를 '.'으로 설정하여 자른다\n",
        "ls='1.617.305.1985'.split('.')\n",
        "# 2) ls를 - 구분자로 붙인다\n",
        "'-'.join(ls)"
      ],
      "execution_count": null,
      "outputs": [
        {
          "output_type": "execute_result",
          "data": {
            "application/vnd.google.colaboratory.intrinsic+json": {
              "type": "string"
            },
            "text/plain": [
              "'1-617-305-1985'"
            ]
          },
          "metadata": {
            "tags": []
          },
          "execution_count": 19
        }
      ]
    },
    {
      "cell_type": "code",
      "metadata": {
        "colab": {
          "base_uri": "https://localhost:8080/",
          "height": 35
        },
        "id": "RV63itpm0KSy",
        "outputId": "8e23f99a-91e4-4cf7-de1f-994e2863752a"
      },
      "source": [
        "' '.join('This string\\n\\r has many\\t\\tspaces'.split())"
      ],
      "execution_count": null,
      "outputs": [
        {
          "output_type": "execute_result",
          "data": {
            "application/vnd.google.colaboratory.intrinsic+json": {
              "type": "string"
            },
            "text/plain": [
              "'This string has many spaces'"
            ]
          },
          "metadata": {
            "tags": []
          },
          "execution_count": 20
        }
      ]
    },
    {
      "cell_type": "code",
      "metadata": {
        "colab": {
          "base_uri": "https://localhost:8080/",
          "height": 35
        },
        "id": "T8-rq38f006x",
        "outputId": "42d0e3fc-aa9d-471e-8763-690fda82dc64"
      },
      "source": [
        "# 1) \\n\\r 공백 데이터 기준으로 자르기\n",
        "ls='This string\\n\\r has many\\t\\tspaces'.split()\n",
        "# 2) 공백 한 칸으로 재조합\n",
        "' '.join(ls)"
      ],
      "execution_count": null,
      "outputs": [
        {
          "output_type": "execute_result",
          "data": {
            "application/vnd.google.colaboratory.intrinsic+json": {
              "type": "string"
            },
            "text/plain": [
              "'This string has many spaces'"
            ]
          },
          "metadata": {
            "tags": []
          },
          "execution_count": 22
        }
      ]
    },
    {
      "cell_type": "markdown",
      "metadata": {
        "id": "NskhRSjU1mOx"
      },
      "source": [
        "**find(needle)** \n",
        "\n",
        "> 해당 문자열에 부문 문자열 needle이 처음 등장하는 인덱스(위치) 반환\n",
        "\n",
        "\n",
        "\n",
        "\n",
        "> 없으면 -1 반환하는 함수(대소문자 구분)\n",
        "\n",
        "\n"
      ]
    },
    {
      "cell_type": "code",
      "metadata": {
        "colab": {
          "base_uri": "https://localhost:8080/"
        },
        "id": "B5GkIYGm1I2V",
        "outputId": "954cd260-ec4a-4a03-fc48-c82bc08058d7"
      },
      "source": [
        "'www.networksciencelab.com'.find('.com')"
      ],
      "execution_count": null,
      "outputs": [
        {
          "output_type": "execute_result",
          "data": {
            "text/plain": [
              "21"
            ]
          },
          "metadata": {
            "tags": []
          },
          "execution_count": 24
        }
      ]
    },
    {
      "cell_type": "code",
      "metadata": {
        "colab": {
          "base_uri": "https://localhost:8080/"
        },
        "id": "YlZeesHT2UGL",
        "outputId": "92956aac-cdc9-4fdc-92f5-0bd0b4af66ef"
      },
      "source": [
        "'www.networksciencelab.Com'.find('.com')"
      ],
      "execution_count": null,
      "outputs": [
        {
          "output_type": "execute_result",
          "data": {
            "text/plain": [
              "-1"
            ]
          },
          "metadata": {
            "tags": []
          },
          "execution_count": 25
        }
      ]
    },
    {
      "cell_type": "markdown",
      "metadata": {
        "id": "avCf4buQ2hT2"
      },
      "source": [
        "**count(needle)**\n",
        "\n",
        "\n",
        "> 해당 문자열에서 등장하는 횟수를 반환하는 함수\n",
        "\n",
        "\n",
        "> 대소문자를 구분한다\n",
        "\n",
        "\n",
        "\n"
      ]
    },
    {
      "cell_type": "code",
      "metadata": {
        "colab": {
          "base_uri": "https://localhost:8080/"
        },
        "id": "giYhxq4Y2aiB",
        "outputId": "20b936c8-16e9-44c3-f9ad-c7129da134c1"
      },
      "source": [
        "'www.networksciencelab.com'.count('.')"
      ],
      "execution_count": null,
      "outputs": [
        {
          "output_type": "execute_result",
          "data": {
            "text/plain": [
              "2"
            ]
          },
          "metadata": {
            "tags": []
          },
          "execution_count": 26
        }
      ]
    },
    {
      "cell_type": "code",
      "metadata": {
        "colab": {
          "base_uri": "https://localhost:8080/"
        },
        "id": "7RIUsD5p213V",
        "outputId": "3ec84ff6-2348-4f92-d359-a8c58851db5e"
      },
      "source": [
        "'www.networksciencelab.com'.count('w')"
      ],
      "execution_count": null,
      "outputs": [
        {
          "output_type": "execute_result",
          "data": {
            "text/plain": [
              "4"
            ]
          },
          "metadata": {
            "tags": []
          },
          "execution_count": 27
        }
      ]
    },
    {
      "cell_type": "code",
      "metadata": {
        "colab": {
          "base_uri": "https://localhost:8080/"
        },
        "id": "z9KrGQOy25W5",
        "outputId": "3f74b809-db31-4188-f994-aa2119d50dfb"
      },
      "source": [
        "'www.networksciencelab.com'.count('o')"
      ],
      "execution_count": null,
      "outputs": [
        {
          "output_type": "execute_result",
          "data": {
            "text/plain": [
              "2"
            ]
          },
          "metadata": {
            "tags": []
          },
          "execution_count": 28
        }
      ]
    },
    {
      "cell_type": "markdown",
      "metadata": {
        "id": "-6x5C-mI3Ryv"
      },
      "source": [
        "**프레디케이트 함수**\n",
        "\n",
        "\n",
        "문자열 s가 특정 클래스에 속하는지 True, False로 반환\n",
        "\n"
      ]
    },
    {
      "cell_type": "code",
      "metadata": {
        "colab": {
          "base_uri": "https://localhost:8080/"
        },
        "id": "oP8DjISa3hgb",
        "outputId": "3433444b-d3b1-4c12-e47b-7a8695622945"
      },
      "source": [
        "'www.networksciencelab.com'.islower() # 해당 문자열의 모든 알파벳 문자가 소문자니?"
      ],
      "execution_count": null,
      "outputs": [
        {
          "output_type": "execute_result",
          "data": {
            "text/plain": [
              "True"
            ]
          },
          "metadata": {
            "tags": []
          },
          "execution_count": 29
        }
      ]
    },
    {
      "cell_type": "code",
      "metadata": {
        "colab": {
          "base_uri": "https://localhost:8080/"
        },
        "id": "jEIsph_J30Nc",
        "outputId": "8bfcfd1d-2f04-47f8-c587-4430486a528a"
      },
      "source": [
        "'www.networksciencelab.com'.isupper() # 해당 문자열의 모든 알파벳 문자가 대문자니?"
      ],
      "execution_count": null,
      "outputs": [
        {
          "output_type": "execute_result",
          "data": {
            "text/plain": [
              "False"
            ]
          },
          "metadata": {
            "tags": []
          },
          "execution_count": 31
        }
      ]
    },
    {
      "cell_type": "code",
      "metadata": {
        "colab": {
          "base_uri": "https://localhost:8080/"
        },
        "id": "-BOpDw6p3-i0",
        "outputId": "d1a343a7-ddcf-471c-8db9-178fdc8a8b91"
      },
      "source": [
        "'www.networksciencelab.com'.isdigit() # 0~9사이의 숫자인지 확인"
      ],
      "execution_count": null,
      "outputs": [
        {
          "output_type": "execute_result",
          "data": {
            "text/plain": [
              "False"
            ]
          },
          "metadata": {
            "tags": []
          },
          "execution_count": 32
        }
      ]
    },
    {
      "cell_type": "code",
      "metadata": {
        "colab": {
          "base_uri": "https://localhost:8080/"
        },
        "id": "AjupVYW-4crR",
        "outputId": "ddbec5cd-407e-44a0-e79e-65ea86bfd209"
      },
      "source": [
        "'www.Networksciencelab.Com'.isupper()"
      ],
      "execution_count": null,
      "outputs": [
        {
          "output_type": "execute_result",
          "data": {
            "text/plain": [
              "False"
            ]
          },
          "metadata": {
            "tags": []
          },
          "execution_count": 33
        }
      ]
    },
    {
      "cell_type": "code",
      "metadata": {
        "colab": {
          "base_uri": "https://localhost:8080/"
        },
        "id": "frK2tChe4hwC",
        "outputId": "a2863736-820e-4b0f-b8be-f3d7ce72d1a7"
      },
      "source": [
        "'www.networksciencelab.com'.isalpha() # 해당 문자열은 알파벳으로 되어있니?"
      ],
      "execution_count": null,
      "outputs": [
        {
          "output_type": "execute_result",
          "data": {
            "text/plain": [
              "False"
            ]
          },
          "metadata": {
            "tags": []
          },
          "execution_count": 37
        }
      ]
    },
    {
      "cell_type": "code",
      "metadata": {
        "colab": {
          "base_uri": "https://localhost:8080/"
        },
        "id": "t4sIf6HN4oAo",
        "outputId": "8c29129d-0ccd-4bc5-a8d2-4e622513ea7f"
      },
      "source": [
        "'wwwnetworksciencelabcom'.isalpha() # dot(.) 제거 해야지만 True(알파벳 이외의 다른 요소 들어가있으면 안된다)"
      ],
      "execution_count": null,
      "outputs": [
        {
          "output_type": "execute_result",
          "data": {
            "text/plain": [
              "True"
            ]
          },
          "metadata": {
            "tags": []
          },
          "execution_count": 38
        }
      ]
    },
    {
      "cell_type": "markdown",
      "metadata": {
        "id": "tpdpHDax5CEp"
      },
      "source": [
        "**대,소문자 변환 함수**\n",
        "\n",
        "\n",
        "> 모든 문자의 대,소문자 변환\n",
        "\n",
        "\n",
        "> 원본 데이터를 바꾸는 것이 아니고 복사본을 반환\n",
        "\n",
        "\n",
        "> 원본 데이터를 바꾸고 싶다면 변수에 저장하여 실행\n",
        "\n",
        "\n",
        "\n",
        "\n",
        "\n"
      ]
    },
    {
      "cell_type": "code",
      "metadata": {
        "colab": {
          "base_uri": "https://localhost:8080/",
          "height": 35
        },
        "id": "8VHlRDxp5Hkw",
        "outputId": "a4727ba8-e2e4-485e-c0cf-cc4e2f2adc45"
      },
      "source": [
        "st='wwwnetworksciencelabcom'\n",
        "st.upper()"
      ],
      "execution_count": null,
      "outputs": [
        {
          "output_type": "execute_result",
          "data": {
            "application/vnd.google.colaboratory.intrinsic+json": {
              "type": "string"
            },
            "text/plain": [
              "'WWWNETWORKSCIENCELABCOM'"
            ]
          },
          "metadata": {
            "tags": []
          },
          "execution_count": 39
        }
      ]
    },
    {
      "cell_type": "code",
      "metadata": {
        "colab": {
          "base_uri": "https://localhost:8080/",
          "height": 35
        },
        "id": "62cn_WO54uIv",
        "outputId": "de83cbbe-b81d-4564-d710-a8b60af65713"
      },
      "source": [
        "st"
      ],
      "execution_count": null,
      "outputs": [
        {
          "output_type": "execute_result",
          "data": {
            "application/vnd.google.colaboratory.intrinsic+json": {
              "type": "string"
            },
            "text/plain": [
              "'wwwnetworksciencelabcom'"
            ]
          },
          "metadata": {
            "tags": []
          },
          "execution_count": 40
        }
      ]
    },
    {
      "cell_type": "code",
      "metadata": {
        "colab": {
          "base_uri": "https://localhost:8080/",
          "height": 35
        },
        "id": "cVBpZ4E35mbw",
        "outputId": "26341d3a-6df5-4a7c-d179-ad40d9617923"
      },
      "source": [
        "st='wwwnetworksciencelabcom'.upper()\n",
        "st"
      ],
      "execution_count": null,
      "outputs": [
        {
          "output_type": "execute_result",
          "data": {
            "application/vnd.google.colaboratory.intrinsic+json": {
              "type": "string"
            },
            "text/plain": [
              "'WWWNETWORKSCIENCELABCOM'"
            ]
          },
          "metadata": {
            "tags": []
          },
          "execution_count": 42
        }
      ]
    },
    {
      "cell_type": "code",
      "metadata": {
        "colab": {
          "base_uri": "https://localhost:8080/",
          "height": 35
        },
        "id": "G2YD8qLh5shp",
        "outputId": "85114226-42b4-46f7-fa22-4d301f2dca61"
      },
      "source": [
        "st.lower()"
      ],
      "execution_count": null,
      "outputs": [
        {
          "output_type": "execute_result",
          "data": {
            "application/vnd.google.colaboratory.intrinsic+json": {
              "type": "string"
            },
            "text/plain": [
              "'wwwnetworksciencelabcom'"
            ]
          },
          "metadata": {
            "tags": []
          },
          "execution_count": 43
        }
      ]
    },
    {
      "cell_type": "code",
      "metadata": {
        "colab": {
          "base_uri": "https://localhost:8080/",
          "height": 35
        },
        "id": "B78SUkJO5wrT",
        "outputId": "07c1b96e-cebc-46ef-eee0-70e94a5ecb59"
      },
      "source": [
        "st"
      ],
      "execution_count": null,
      "outputs": [
        {
          "output_type": "execute_result",
          "data": {
            "application/vnd.google.colaboratory.intrinsic+json": {
              "type": "string"
            },
            "text/plain": [
              "'WWWNETWORKSCIENCELABCOM'"
            ]
          },
          "metadata": {
            "tags": []
          },
          "execution_count": 44
        }
      ]
    },
    {
      "cell_type": "markdown",
      "metadata": {
        "id": "tsEXOdxBNrvg"
      },
      "source": [
        "**2. 올바른 자료구조 선택하기**"
      ]
    },
    {
      "cell_type": "markdown",
      "metadata": {
        "id": "UNAnohfoN2lT"
      },
      "source": [
        "중복된 아이템이 있는 리스트 -> myList"
      ]
    },
    {
      "cell_type": "code",
      "metadata": {
        "colab": {
          "base_uri": "https://localhost:8080/"
        },
        "id": "2t5KzlPo5xp1",
        "outputId": "68e37da6-c9d4-48d7-97d9-2c6200c49524"
      },
      "source": [
        "myList = \"This string\\n\\r has many\\t\\tspaces\\tThis string\\n\\r has many\\t\\tspaces\".split()\n",
        "myList"
      ],
      "execution_count": null,
      "outputs": [
        {
          "output_type": "execute_result",
          "data": {
            "text/plain": [
              "['This',\n",
              " 'string',\n",
              " 'has',\n",
              " 'many',\n",
              " 'spaces',\n",
              " 'This',\n",
              " 'string',\n",
              " 'has',\n",
              " 'many',\n",
              " 'spaces']"
            ]
          },
          "metadata": {
            "tags": []
          },
          "execution_count": 46
        }
      ]
    },
    {
      "cell_type": "markdown",
      "metadata": {
        "id": "RJ6Kohs4OMCJ"
      },
      "source": [
        "리스트 -> 셋 변환 -> 다시 리스트로 변환"
      ]
    },
    {
      "cell_type": "code",
      "metadata": {
        "colab": {
          "base_uri": "https://localhost:8080/"
        },
        "id": "HggTw9TiN_Da",
        "outputId": "e5aeaae6-6731-43cb-e0a5-290d8389b7a9"
      },
      "source": [
        "# 1) mylist를 set으로 변환(for 중복제거) -> 기존 리스트의 순서가 파괴되었음을 확인 가능\n",
        "set(myList)"
      ],
      "execution_count": null,
      "outputs": [
        {
          "output_type": "execute_result",
          "data": {
            "text/plain": [
              "{'This', 'has', 'many', 'spaces', 'string'}"
            ]
          },
          "metadata": {
            "tags": []
          },
          "execution_count": 48
        }
      ]
    },
    {
      "cell_type": "code",
      "metadata": {
        "colab": {
          "base_uri": "https://localhost:8080/"
        },
        "id": "m2NwOxF2OgAT",
        "outputId": "0b409658-1624-434f-b4a8-654d94da81ab"
      },
      "source": [
        "# 2) 중복 제거한 데이터를 리스트로 변환\n",
        "myList=list(set(myList))\n",
        "myList"
      ],
      "execution_count": null,
      "outputs": [
        {
          "output_type": "execute_result",
          "data": {
            "text/plain": [
              "['many', 'This', 'has', 'spaces', 'string']"
            ]
          },
          "metadata": {
            "tags": []
          },
          "execution_count": 49
        }
      ]
    },
    {
      "cell_type": "markdown",
      "metadata": {
        "id": "Qx0ocWY8POuM"
      },
      "source": [
        "List vs Set 회원 명단 조회하기\n"
      ]
    },
    {
      "cell_type": "code",
      "metadata": {
        "colab": {
          "base_uri": "https://localhost:8080/"
        },
        "id": "CZ3Xhr3MPDRh",
        "outputId": "ae47d342-219c-48e3-c8be-1f2ae248d4ac"
      },
      "source": [
        "bigList=[str(i) for i in range(10000000)] # 리스트 내포(for문을 리스트 안에서 실행)\n",
        "'abc' in bigList # bigList에 abc데이터 포함되어있는지 확인(2초)"
      ],
      "execution_count": null,
      "outputs": [
        {
          "output_type": "execute_result",
          "data": {
            "text/plain": [
              "False"
            ]
          },
          "metadata": {
            "tags": []
          },
          "execution_count": 50
        }
      ]
    },
    {
      "cell_type": "code",
      "metadata": {
        "colab": {
          "base_uri": "https://localhost:8080/"
        },
        "id": "FAdY7svuP3NQ",
        "outputId": "bedbd244-e5da-42c2-dc93-c5f755c6bdd1"
      },
      "source": [
        "bigList=set(bigList) # set으로 변환하면 중복이 제거되기 때문에 데이터 조회시 빠름(0초)\n",
        "'abc' in bigList"
      ],
      "execution_count": null,
      "outputs": [
        {
          "output_type": "execute_result",
          "data": {
            "text/plain": [
              "False"
            ]
          },
          "metadata": {
            "tags": []
          },
          "execution_count": 51
        }
      ]
    },
    {
      "cell_type": "markdown",
      "metadata": {
        "id": "Dje8CRWlRZ--"
      },
      "source": [
        "**딕셔너리**\n",
        "\n",
        "\n",
        "> key-value로 검색해야할 때 매우 유용\n",
        "\n"
      ]
    },
    {
      "cell_type": "markdown",
      "metadata": {
        "id": "4JRFqgI5SdNE"
      },
      "source": [
        "리스트 딕셔너리 만들기(enumerate 사용)\n"
      ]
    },
    {
      "cell_type": "code",
      "metadata": {
        "colab": {
          "base_uri": "https://localhost:8080/"
        },
        "id": "w3TzIRRnQTE-",
        "outputId": "f2449c3d-af94-4ea7-e5f5-bab183369136"
      },
      "source": [
        "# 1) 리스트 준비\n",
        "seq=['alpha','bravo','charlie','delta']\n",
        "# 2) 딕셔너리 만들기 -> 리스트의 인덱스 값(0,1,2...)을 key로, data를 value로\n",
        "dict(enumerate(seq))"
      ],
      "execution_count": null,
      "outputs": [
        {
          "output_type": "execute_result",
          "data": {
            "text/plain": [
              "{0: 'alpha', 1: 'bravo', 2: 'charlie', 3: 'delta'}"
            ]
          },
          "metadata": {
            "tags": []
          },
          "execution_count": 54
        }
      ]
    },
    {
      "cell_type": "markdown",
      "metadata": {
        "id": "pmhqG7yWTxOn"
      },
      "source": [
        "리스트 딕셔너리 만들기 - 키 순서열과 값 순서열에 클래스 생성자인 zip(key,value)사용"
      ]
    },
    {
      "cell_type": "code",
      "metadata": {
        "colab": {
          "base_uri": "https://localhost:8080/"
        },
        "id": "bW0WJ2A6Tvsq",
        "outputId": "7a85e6a3-0187-4f64-e959-abef159f3521"
      },
      "source": [
        "kesq='abcd' # 문자열 또한 순서열이다\n",
        "vesq=['alpha','bravo','charlie','delta']\n",
        "dict(zip(kesq,vesq))"
      ],
      "execution_count": null,
      "outputs": [
        {
          "output_type": "execute_result",
          "data": {
            "text/plain": [
              "{'a': 'alpha', 'b': 'bravo', 'c': 'charlie', 'd': 'delta'}"
            ]
          },
          "metadata": {
            "tags": []
          },
          "execution_count": 56
        }
      ]
    },
    {
      "cell_type": "code",
      "metadata": {
        "colab": {
          "base_uri": "https://localhost:8080/"
        },
        "id": "xCLPlz9KUCQd",
        "outputId": "03afb369-3af2-47ab-99ef-8d4225110fc9"
      },
      "source": [
        "kesq='aaaa' # key값은 중복될 수 없다. 중복되는 경우 뒤에 나오는 value값으로 오버라이트\n",
        "vesq=['alpha','bravo','charlie','delta']\n",
        "dict(zip(kesq,vesq))"
      ],
      "execution_count": null,
      "outputs": [
        {
          "output_type": "execute_result",
          "data": {
            "text/plain": [
              "{'a': 'delta'}"
            ]
          },
          "metadata": {
            "tags": []
          },
          "execution_count": 57
        }
      ]
    },
    {
      "cell_type": "markdown",
      "metadata": {
        "id": "R1DaOtjCaIrw"
      },
      "source": [
        "**카운터(Counter)**\n",
        "\n",
        "\n",
        "> 딕셔너리 스타일의 컬렉션에서 다른 컬렉션 안의 아이템 개수 셀 때 사용\n",
        "\n"
      ]
    },
    {
      "cell_type": "code",
      "metadata": {
        "colab": {
          "base_uri": "https://localhost:8080/"
        },
        "id": "fRnOvzpOaUkn",
        "outputId": "5e11ee44-3d61-43ab-f068-31b973631656"
      },
      "source": [
        "from collections import Counter\n",
        "\n",
        "phrase='a man a plan a canal panama'\n",
        "cntr=Counter(phrase.split())\n",
        "\n",
        "cntr"
      ],
      "execution_count": null,
      "outputs": [
        {
          "output_type": "execute_result",
          "data": {
            "text/plain": [
              "Counter({'a': 3, 'canal': 1, 'man': 1, 'panama': 1, 'plan': 1})"
            ]
          },
          "metadata": {
            "tags": []
          },
          "execution_count": 65
        }
      ]
    },
    {
      "cell_type": "code",
      "metadata": {
        "colab": {
          "base_uri": "https://localhost:8080/"
        },
        "id": "E5hzrZSmalt0",
        "outputId": "ae24613d-c26d-46ea-defb-541e937f9f29"
      },
      "source": [
        "cntr.most_common # 빈도 나타냄"
      ],
      "execution_count": null,
      "outputs": [
        {
          "output_type": "execute_result",
          "data": {
            "text/plain": [
              "<bound method Counter.most_common of Counter({'a': 3, 'man': 1, 'plan': 1, 'canal': 1, 'panama': 1})>"
            ]
          },
          "metadata": {
            "tags": []
          },
          "execution_count": 66
        }
      ]
    },
    {
      "cell_type": "code",
      "metadata": {
        "colab": {
          "base_uri": "https://localhost:8080/"
        },
        "id": "ybEuzNP3au8d",
        "outputId": "051db12e-192d-4bec-f5af-4690025cbcd6"
      },
      "source": [
        "cntr.most_common(2) # 가장 빈번하게 등장한 n개의 아이템과 빈도 추출"
      ],
      "execution_count": null,
      "outputs": [
        {
          "output_type": "execute_result",
          "data": {
            "text/plain": [
              "[('a', 3), ('man', 1)]"
            ]
          },
          "metadata": {
            "tags": []
          },
          "execution_count": 71
        }
      ]
    },
    {
      "cell_type": "code",
      "metadata": {
        "colab": {
          "base_uri": "https://localhost:8080/"
        },
        "id": "x7OTWHhoaywe",
        "outputId": "e3b478de-e6d4-431c-8324-9cd01ee4a9fb"
      },
      "source": [
        "cntr=Counter(phrase)\n",
        "cntr"
      ],
      "execution_count": null,
      "outputs": [
        {
          "output_type": "execute_result",
          "data": {
            "text/plain": [
              "Counter({' ': 6, 'a': 10, 'c': 1, 'l': 2, 'm': 2, 'n': 4, 'p': 2})"
            ]
          },
          "metadata": {
            "tags": []
          },
          "execution_count": 63
        }
      ]
    },
    {
      "cell_type": "markdown",
      "metadata": {
        "id": "NR18XO1WcYDJ"
      },
      "source": [
        "출력한 리스트를 딕셔너리로 변환하면 가독성 좋아짐"
      ]
    },
    {
      "cell_type": "code",
      "metadata": {
        "colab": {
          "base_uri": "https://localhost:8080/"
        },
        "id": "uJgIqQljcbTF",
        "outputId": "c4b208a6-7ba2-457e-d0da-f899034bb8fb"
      },
      "source": [
        "ls=phrase.split()\n",
        "ls"
      ],
      "execution_count": null,
      "outputs": [
        {
          "output_type": "execute_result",
          "data": {
            "text/plain": [
              "['a', 'man', 'a', 'plan', 'a', 'canal', 'panama']"
            ]
          },
          "metadata": {
            "tags": []
          },
          "execution_count": 80
        }
      ]
    },
    {
      "cell_type": "code",
      "metadata": {
        "colab": {
          "base_uri": "https://localhost:8080/"
        },
        "id": "owwuOLfHc6xF",
        "outputId": "40ab46d2-2373-4f14-be92-0723c2e884a5"
      },
      "source": [
        "cntr=Counter(ls)\n",
        "cntr.most_common()"
      ],
      "execution_count": null,
      "outputs": [
        {
          "output_type": "execute_result",
          "data": {
            "text/plain": [
              "[('a', 3), ('man', 1), ('plan', 1), ('canal', 1), ('panama', 1)]"
            ]
          },
          "metadata": {
            "tags": []
          },
          "execution_count": 83
        }
      ]
    },
    {
      "cell_type": "code",
      "metadata": {
        "colab": {
          "base_uri": "https://localhost:8080/"
        },
        "id": "1P7yHZScbHHz",
        "outputId": "677c8d66-d9d6-43ce-b735-b7770e6c79d1"
      },
      "source": [
        "cntrDict=dict(cntr.most_common())\n",
        "cntrDict"
      ],
      "execution_count": null,
      "outputs": [
        {
          "output_type": "execute_result",
          "data": {
            "text/plain": [
              "{'a': 3, 'canal': 1, 'man': 1, 'panama': 1, 'plan': 1}"
            ]
          },
          "metadata": {
            "tags": []
          },
          "execution_count": 72
        }
      ]
    },
    {
      "cell_type": "code",
      "metadata": {
        "colab": {
          "base_uri": "https://localhost:8080/"
        },
        "id": "1RlYYQkbd-eg",
        "outputId": "12d39b4e-3efc-47ef-a627-691927af6c88"
      },
      "source": [
        "cntrDict['a']"
      ],
      "execution_count": null,
      "outputs": [
        {
          "output_type": "execute_result",
          "data": {
            "text/plain": [
              "3"
            ]
          },
          "metadata": {
            "tags": []
          },
          "execution_count": 74
        }
      ]
    },
    {
      "cell_type": "markdown",
      "metadata": {
        "id": "x3-01xQveEVV"
      },
      "source": [
        "**웹에 접근하기**"
      ]
    },
    {
      "cell_type": "code",
      "metadata": {
        "colab": {
          "base_uri": "https://localhost:8080/"
        },
        "id": "0QEl6lXneHQI",
        "outputId": "790d8da6-0503-41b8-d05d-a720edc6f64f"
      },
      "source": [
        "import urllib.request\n",
        "\n",
        "try: # 오류가 발생할 수 있는 상황들에서 오류를 캐치하고 어떻게 대처해야할 지 지정해줌 \n",
        "  with urllib.urlopen('http://networksciencelab.com') as doc:\n",
        "    html=doc.read()\n",
        "    print(html)\n",
        "\n",
        "except:\n",
        "  print('could not open')"
      ],
      "execution_count": null,
      "outputs": [
        {
          "output_type": "stream",
          "text": [
            "could not open\n"
          ],
          "name": "stdout"
        }
      ]
    },
    {
      "cell_type": "code",
      "metadata": {
        "colab": {
          "base_uri": "https://localhost:8080/",
          "height": 239
        },
        "id": "jwBdTjPmfsO3",
        "outputId": "3181239a-9268-4cd6-d8bc-8c991f23e7bf"
      },
      "source": [
        "import urllib.request\n",
        "\n",
        "with urllib.urlopen('http://networksciencelab.com') as doc:\n",
        "  html=doc.read()\n",
        "  print(html)"
      ],
      "execution_count": null,
      "outputs": [
        {
          "output_type": "error",
          "ename": "AttributeError",
          "evalue": "ignored",
          "traceback": [
            "\u001b[0;31m---------------------------------------------------------------------------\u001b[0m",
            "\u001b[0;31mAttributeError\u001b[0m                            Traceback (most recent call last)",
            "\u001b[0;32m<ipython-input-77-2362bda03046>\u001b[0m in \u001b[0;36m<module>\u001b[0;34m()\u001b[0m\n\u001b[1;32m      1\u001b[0m \u001b[0;32mimport\u001b[0m \u001b[0murllib\u001b[0m\u001b[0;34m.\u001b[0m\u001b[0mrequest\u001b[0m\u001b[0;34m\u001b[0m\u001b[0;34m\u001b[0m\u001b[0m\n\u001b[1;32m      2\u001b[0m \u001b[0;34m\u001b[0m\u001b[0m\n\u001b[0;32m----> 3\u001b[0;31m \u001b[0;32mwith\u001b[0m \u001b[0murllib\u001b[0m\u001b[0;34m.\u001b[0m\u001b[0murlopen\u001b[0m\u001b[0;34m(\u001b[0m\u001b[0;34m'http://networksciencelab.com'\u001b[0m\u001b[0;34m)\u001b[0m \u001b[0;32mas\u001b[0m \u001b[0mdoc\u001b[0m\u001b[0;34m:\u001b[0m\u001b[0;34m\u001b[0m\u001b[0;34m\u001b[0m\u001b[0m\n\u001b[0m\u001b[1;32m      4\u001b[0m   \u001b[0mhtml\u001b[0m\u001b[0;34m=\u001b[0m\u001b[0mdoc\u001b[0m\u001b[0;34m.\u001b[0m\u001b[0mread\u001b[0m\u001b[0;34m(\u001b[0m\u001b[0;34m)\u001b[0m\u001b[0;34m\u001b[0m\u001b[0;34m\u001b[0m\u001b[0m\n\u001b[1;32m      5\u001b[0m   \u001b[0mprint\u001b[0m\u001b[0;34m(\u001b[0m\u001b[0mhtml\u001b[0m\u001b[0;34m)\u001b[0m\u001b[0;34m\u001b[0m\u001b[0;34m\u001b[0m\u001b[0m\n",
            "\u001b[0;31mAttributeError\u001b[0m: module 'urllib' has no attribute 'urlopen'"
          ]
        }
      ]
    },
    {
      "cell_type": "code",
      "metadata": {
        "colab": {
          "base_uri": "https://localhost:8080/"
        },
        "id": "zmmuWVzzfv1O",
        "outputId": "41da895b-0e95-45ef-c542-cb63ae51ad53"
      },
      "source": [
        "import urllib.parse\n",
        "\n",
        "URL=\"http://networksciencelab.com/index.html;param?foo=bar#content\" # url 파싱하여 6개의 아이템으로 구성된 튜플로 분리 스키마 네트워크 주소, 파일 시스템 경로, 파라미터, 쿼리, 플래그먼트\n",
        "urllib.parse.urlparse(URL)"
      ],
      "execution_count": null,
      "outputs": [
        {
          "output_type": "execute_result",
          "data": {
            "text/plain": [
              "ParseResult(scheme='http', netloc='networksciencelab.com', path='/index.html', params='param', query='foo=bar', fragment='content')"
            ]
          },
          "metadata": {
            "tags": []
          },
          "execution_count": 82
        }
      ]
    },
    {
      "cell_type": "markdown",
      "metadata": {
        "id": "u3luu6RRoZY4"
      },
      "source": [
        "**정규식**"
      ]
    },
    {
      "cell_type": "code",
      "metadata": {
        "colab": {
          "base_uri": "https://localhost:8080/"
        },
        "id": "5pHpDsRghI78",
        "outputId": "887a3e53-a615-4cda-cff0-086f6c8145b7"
      },
      "source": [
        "a='abcdef\\n'\n",
        "print(a)"
      ],
      "execution_count": null,
      "outputs": [
        {
          "output_type": "stream",
          "text": [
            "abcdef\n",
            "\n"
          ],
          "name": "stdout"
        }
      ]
    },
    {
      "cell_type": "code",
      "metadata": {
        "colab": {
          "base_uri": "https://localhost:8080/"
        },
        "id": "b-KmwD85ohP1",
        "outputId": "941f264a-6583-49f6-8de8-0400bc94f096"
      },
      "source": [
        "b=r'abccdef\\n' # r을 앞쪽에 붙여주면 ''안의 문자열을 원천 문자열(raw string)로 인식\n",
        "print(b)"
      ],
      "execution_count": null,
      "outputs": [
        {
          "output_type": "stream",
          "text": [
            "abccdef\\n\n"
          ],
          "name": "stdout"
        }
      ]
    },
    {
      "cell_type": "code",
      "metadata": {
        "colab": {
          "base_uri": "https://localhost:8080/"
        },
        "id": "NbPiwDUdorNy",
        "outputId": "40fe22da-2161-4ef2-a2c3-c2c12f2ca811"
      },
      "source": [
        "import re\n",
        "\n",
        "re.compile(r'(\\d+)/(\\d+)/(\\d+)')"
      ],
      "execution_count": null,
      "outputs": [
        {
          "output_type": "execute_result",
          "data": {
            "text/plain": [
              "re.compile(r'(\\d+)/(\\d+)/(\\d+)', re.UNICODE)"
            ]
          },
          "metadata": {
            "tags": []
          },
          "execution_count": 88
        }
      ]
    },
    {
      "cell_type": "code",
      "metadata": {
        "colab": {
          "base_uri": "https://localhost:8080/"
        },
        "id": "uSFof4LTp7gz",
        "outputId": "31bd5bf5-92bc-45eb-8d48-6d06a25a4fbf"
      },
      "source": [
        "re.compile('(\\\\d+)/(\\\\d+)/(\\\\d+)') # raw string을 사용하지 않으면, 슬래시를 두 번 사용해야하는 불편함"
      ],
      "execution_count": null,
      "outputs": [
        {
          "output_type": "execute_result",
          "data": {
            "text/plain": [
              "re.compile(r'(\\d+)/(\\d+)/(\\d+)', re.UNICODE)"
            ]
          },
          "metadata": {
            "tags": []
          },
          "execution_count": 89
        }
      ]
    },
    {
      "cell_type": "markdown",
      "metadata": {
        "id": "dYtWbSGDqUCg"
      },
      "source": [
        "정규 표현식으로 패턴 매칭하기"
      ]
    },
    {
      "cell_type": "markdown",
      "metadata": {
        "id": "g2CXMjvEqZIR"
      },
      "source": [
        "re.split() 함수 단어 분석을 위한 기본적인 단어 토크나이저로 사용할 수 있음"
      ]
    },
    {
      "cell_type": "code",
      "metadata": {
        "colab": {
          "base_uri": "https://localhost:8080/"
        },
        "id": "9kepWWdlqF95",
        "outputId": "bdf6cc44-5910-4b15-ea90-9d88ab6b13ab"
      },
      "source": [
        "import re\n",
        "\n",
        "re.split(r'\\W','Hello, World!') # r'\\W' : 알파벳이나 숫자가 아닌 개체(즉 특수문자, 공백 등) 1개로 잘라라"
      ],
      "execution_count": null,
      "outputs": [
        {
          "output_type": "execute_result",
          "data": {
            "text/plain": [
              "['Hello', '', 'World', '']"
            ]
          },
          "metadata": {
            "tags": []
          },
          "execution_count": 90
        }
      ]
    },
    {
      "cell_type": "code",
      "metadata": {
        "colab": {
          "base_uri": "https://localhost:8080/"
        },
        "id": "9LYdoQpAra5N",
        "outputId": "1bab2fd4-418a-4a55-a45a-b04cf58ea334"
      },
      "source": [
        "# 인근에 위치한 비문자(non-letter) (,등)을 합친다\n",
        "# r'\\W+' 알파벳이나 숫자가 아닌 개체 1개 이상을 합친다(+)\n",
        "re.split(r'\\W+','Hello, World!')"
      ],
      "execution_count": null,
      "outputs": [
        {
          "output_type": "execute_result",
          "data": {
            "text/plain": [
              "['Hello', 'World', '']"
            ]
          },
          "metadata": {
            "tags": []
          },
          "execution_count": 91
        }
      ]
    },
    {
      "cell_type": "code",
      "metadata": {
        "colab": {
          "base_uri": "https://localhost:8080/"
        },
        "id": "vG7m-8UNsF-4",
        "outputId": "bdeb7625-ad99-4f8c-c49c-3ef668c4dcb3"
      },
      "source": [
        "mo=re.match(r'\\d+','067 Starts with a number') \n",
        "# 문장의 첫번째에 위치한숫자 찾고 숫자 뒤의 숫자가 아닌 것들은 합친다\n",
        "mo"
      ],
      "execution_count": null,
      "outputs": [
        {
          "output_type": "execute_result",
          "data": {
            "text/plain": [
              "<re.Match object; span=(0, 3), match='067'>"
            ]
          },
          "metadata": {
            "tags": []
          },
          "execution_count": 93
        }
      ]
    },
    {
      "cell_type": "code",
      "metadata": {
        "colab": {
          "base_uri": "https://localhost:8080/"
        },
        "id": "jDJUxKW4txOS",
        "outputId": "7e2248b1-f679-4f52-db42-373691a4f411"
      },
      "source": [
        "mo=re.match(r'\\d+','067Starts with a number') # 숫자 찾고 숫자 뒤의 숫자가 아닌 것들은 합친다\n",
        "mo"
      ],
      "execution_count": null,
      "outputs": [
        {
          "output_type": "execute_result",
          "data": {
            "text/plain": [
              "<re.Match object; span=(0, 3), match='067'>"
            ]
          },
          "metadata": {
            "tags": []
          },
          "execution_count": 94
        }
      ]
    },
    {
      "cell_type": "code",
      "metadata": {
        "colab": {
          "base_uri": "https://localhost:8080/",
          "height": 35
        },
        "id": "w9ugj6-Jti8u",
        "outputId": "baeed63d-cb52-4b55-cd7e-7d93b1e70638"
      },
      "source": [
        "# match는 object이므로 여러가지 정보를 가지고 있기 때문에 group을 지정해야 match된 정보만 가져올 수 있다.\n",
        "mo.group()"
      ],
      "execution_count": null,
      "outputs": [
        {
          "output_type": "execute_result",
          "data": {
            "application/vnd.google.colaboratory.intrinsic+json": {
              "type": "string"
            },
            "text/plain": [
              "'067'"
            ]
          },
          "metadata": {
            "tags": []
          },
          "execution_count": 95
        }
      ]
    },
    {
      "cell_type": "code",
      "metadata": {
        "colab": {
          "base_uri": "https://localhost:8080/"
        },
        "id": "sJQ-oQWmt5Y-",
        "outputId": "d25330d3-35b7-41c1-94e6-a44f513bbce8"
      },
      "source": [
        "print(re.match(r'\\d+','Dose not Starts with a number'))"
      ],
      "execution_count": null,
      "outputs": [
        {
          "output_type": "stream",
          "text": [
            "None\n"
          ],
          "name": "stdout"
        }
      ]
    },
    {
      "cell_type": "code",
      "metadata": {
        "colab": {
          "base_uri": "https://localhost:8080/"
        },
        "id": "DhrYvSXvuHoD",
        "outputId": "884ddea4-4a88-4f2d-8ea2-8c37a44fb679"
      },
      "source": [
        "print(re.match(r'\\d+','Dose not 010 Starts with a number'))\n",
        "# match는 문장의 중간에 숫자열은 찾을 수 없다"
      ],
      "execution_count": null,
      "outputs": [
        {
          "output_type": "stream",
          "text": [
            "None\n"
          ],
          "name": "stdout"
        }
      ]
    },
    {
      "cell_type": "code",
      "metadata": {
        "colab": {
          "base_uri": "https://localhost:8080/",
          "height": 35
        },
        "id": "3ft5aHbJuWbP",
        "outputId": "968b3618-8c6b-4589-c303-1e8550e9f632"
      },
      "source": [
        "# search는 문자열 일부분이 정규식과 매칭되는지 확인\n",
        "# (매칭되는 게 앞부분에 없다면 이 함수 사용)\n",
        "# [a~z] : 소문자로된 알파벳 하나를 찾는 정규식\n",
        "# [a~z]+ : 하나의 단위 내에서 소문자로된 알파벳 전부를 찾는 정규식\n",
        "# re.I : 대소문자 구분하지 않음\n",
        "re.search(r'[a-z]+','0010010 Has at least one 010 letter 0010010').group()"
      ],
      "execution_count": null,
      "outputs": [
        {
          "output_type": "execute_result",
          "data": {
            "application/vnd.google.colaboratory.intrinsic+json": {
              "type": "string"
            },
            "text/plain": [
              "'as'"
            ]
          },
          "metadata": {
            "tags": []
          },
          "execution_count": 98
        }
      ]
    },
    {
      "cell_type": "code",
      "metadata": {
        "colab": {
          "base_uri": "https://localhost:8080/",
          "height": 35
        },
        "id": "k7sD5bT3vNvQ",
        "outputId": "fa5d5d35-0bf3-41db-98d1-174044038649"
      },
      "source": [
        "re.search(r'[a-z]+','0010010 Has at least one 010 letter 0010010',re.I).group()"
      ],
      "execution_count": null,
      "outputs": [
        {
          "output_type": "execute_result",
          "data": {
            "application/vnd.google.colaboratory.intrinsic+json": {
              "type": "string"
            },
            "text/plain": [
              "'Has'"
            ]
          },
          "metadata": {
            "tags": []
          },
          "execution_count": 99
        }
      ]
    },
    {
      "cell_type": "code",
      "metadata": {
        "colab": {
          "base_uri": "https://localhost:8080/"
        },
        "id": "yrI9EfKRvo0e",
        "outputId": "954179a8-d1ab-4378-e8d0-22b65715c3ea"
      },
      "source": [
        "re.search(r'[a-z]+','0010010 Has at least one 010 letter 0010010')"
      ],
      "execution_count": null,
      "outputs": [
        {
          "output_type": "execute_result",
          "data": {
            "text/plain": [
              "<re.Match object; span=(9, 11), match='as'>"
            ]
          },
          "metadata": {
            "tags": []
          },
          "execution_count": 100
        }
      ]
    },
    {
      "cell_type": "code",
      "metadata": {
        "colab": {
          "base_uri": "https://localhost:8080/",
          "height": 35
        },
        "id": "yqvBnowvv50z",
        "outputId": "a0ac875d-2d30-46dd-ec74-93b99ae98da6"
      },
      "source": [
        "# search는 문자열 일부분이 정규식과 매칭되는지 확인\n",
        "# (매칭되는 게 앞부분에 없다면 이 함수 사용)\n",
        "# [A-Z] : 소문자로된 알파벳 하나를 찾는 정규식\n",
        "# [A-Z]+ : 하나의 단위 내에서 소문자로된 알파벳 전부를 찾는 정규식\n",
        "# re.I : 대소문자 구분하지 않음\n",
        "\n",
        "re.search(r'[A-Z]','0010010 has at least ONE 010 letter 0010010').group()"
      ],
      "execution_count": null,
      "outputs": [
        {
          "output_type": "execute_result",
          "data": {
            "application/vnd.google.colaboratory.intrinsic+json": {
              "type": "string"
            },
            "text/plain": [
              "'O'"
            ]
          },
          "metadata": {
            "tags": []
          },
          "execution_count": 101
        }
      ]
    },
    {
      "cell_type": "code",
      "metadata": {
        "colab": {
          "base_uri": "https://localhost:8080/",
          "height": 35
        },
        "id": "vJolsFRpwP4N",
        "outputId": "2926e050-c9e7-4c6c-f68c-e1fd9469aa9b"
      },
      "source": [
        "re.search(r'[A-Z]+','0010010 has at least ONE 010 letter 0010010').group()"
      ],
      "execution_count": null,
      "outputs": [
        {
          "output_type": "execute_result",
          "data": {
            "application/vnd.google.colaboratory.intrinsic+json": {
              "type": "string"
            },
            "text/plain": [
              "'ONE'"
            ]
          },
          "metadata": {
            "tags": []
          },
          "execution_count": 102
        }
      ]
    },
    {
      "cell_type": "code",
      "metadata": {
        "colab": {
          "base_uri": "https://localhost:8080/"
        },
        "id": "_kDw_ZdMwTe9",
        "outputId": "6fed5562-8b96-479a-9c94-705aff11760d"
      },
      "source": [
        "# findall : 정규식에 부합하는 모든 문자열 찾기(대소문자 무시)\n",
        "re.findall(r'[a-z]+','0010010 has at least ONE 010 letter 0010010',re.I)"
      ],
      "execution_count": null,
      "outputs": [
        {
          "output_type": "execute_result",
          "data": {
            "text/plain": [
              "['has', 'at', 'least', 'ONE', 'letter']"
            ]
          },
          "metadata": {
            "tags": []
          },
          "execution_count": 104
        }
      ]
    },
    {
      "cell_type": "code",
      "metadata": {
        "colab": {
          "base_uri": "https://localhost:8080/"
        },
        "id": "X5jhEBDKw9T9",
        "outputId": "df74bbe6-bac3-40e4-dbd8-3ea8c9226c38"
      },
      "source": [
        "# findall : 정규식에 부합하는 모든 문자열 찾기-> 모든 소문자 들어있는 토큰 찾기\n",
        "re.findall(r'[a-z]+','0010010 Has at least one 010 letter 0010010')"
      ],
      "execution_count": null,
      "outputs": [
        {
          "output_type": "execute_result",
          "data": {
            "text/plain": [
              "['as', 'at', 'least', 'one', 'letter']"
            ]
          },
          "metadata": {
            "tags": []
          },
          "execution_count": 106
        }
      ]
    },
    {
      "cell_type": "code",
      "metadata": {
        "colab": {
          "base_uri": "https://localhost:8080/"
        },
        "id": "VsjSUNzHxLmv",
        "outputId": "0d0c3415-3e58-4d3c-f614-376b71c4a9b6"
      },
      "source": [
        "# 숫자열 찾기\n",
        "re.findall(r'\\d+','0010010 Has at least one 010 letter 0010010')"
      ],
      "execution_count": null,
      "outputs": [
        {
          "output_type": "execute_result",
          "data": {
            "text/plain": [
              "['0010010', '010', '0010010']"
            ]
          },
          "metadata": {
            "tags": []
          },
          "execution_count": 107
        }
      ]
    },
    {
      "cell_type": "code",
      "metadata": {
        "colab": {
          "base_uri": "https://localhost:8080/"
        },
        "id": "6HaYcqTPxdw8",
        "outputId": "b6dd5a1b-703a-4963-a2b1-8186da4cfcbf"
      },
      "source": [
        "# 숫자열이 아닌 것을 찾기\n",
        "re.findall(r'\\D+','0010010 Has at least one 010 letter 0010010')"
      ],
      "execution_count": null,
      "outputs": [
        {
          "output_type": "execute_result",
          "data": {
            "text/plain": [
              "[' Has at least one ', ' letter ']"
            ]
          },
          "metadata": {
            "tags": []
          },
          "execution_count": 108
        }
      ]
    },
    {
      "cell_type": "code",
      "metadata": {
        "colab": {
          "base_uri": "https://localhost:8080/"
        },
        "id": "eKX7oXEjxnc3",
        "outputId": "1aa9f33b-529a-4db9-8580-24c296b54148"
      },
      "source": [
        "# 소문자가 아닌 것들을 찾기\n",
        "re.findall(r'[^a-z]+','0010010 Has at least one 010 letter 0010010')"
      ],
      "execution_count": null,
      "outputs": [
        {
          "output_type": "execute_result",
          "data": {
            "text/plain": [
              "['0010010 H', ' ', ' ', ' ', ' 010 ', ' 0010010']"
            ]
          },
          "metadata": {
            "tags": []
          },
          "execution_count": 109
        }
      ]
    },
    {
      "cell_type": "code",
      "metadata": {
        "colab": {
          "base_uri": "https://localhost:8080/",
          "height": 35
        },
        "id": "kj5S3uWQx4N-",
        "outputId": "9c8e2b6b-eb29-4c39-87bd-8f3cb7b9aac1"
      },
      "source": [
        "# sub : string으로 매칭되는 부분 문자열을 replace(repl)로 치환\n",
        "re.sub(r'[a-z]+','[...]','0010010 Has at least one 010 letter 0010010')"
      ],
      "execution_count": null,
      "outputs": [
        {
          "output_type": "execute_result",
          "data": {
            "application/vnd.google.colaboratory.intrinsic+json": {
              "type": "string"
            },
            "text/plain": [
              "'0010010 H[...] [...] [...] [...] 010 [...] 0010010'"
            ]
          },
          "metadata": {
            "tags": []
          },
          "execution_count": 110
        }
      ]
    },
    {
      "cell_type": "code",
      "metadata": {
        "colab": {
          "base_uri": "https://localhost:8080/",
          "height": 35
        },
        "id": "KSy4YnrKyhLZ",
        "outputId": "60067eb4-0977-4b92-d75d-c737c8de1b90"
      },
      "source": [
        "# sub함수는 (패턴,대체할 문자열,count=0,flags=0)로 되어있기 때문에\n",
        "# count를 지정하지 않은 상태에서 re.I를 쓰면 형식에 맞지않아 제대로 실행되지 않으므로\n",
        "# 1. count를 지정하고 re.I를 쓰거나\n",
        "# 2. flags를 지정하고 re.I를 써줘야 한다.\n",
        "re.sub(r'[a-z]+','[...]','0010010 Has at least one 010 letter 0010010',flags=re.I)"
      ],
      "execution_count": null,
      "outputs": [
        {
          "output_type": "execute_result",
          "data": {
            "application/vnd.google.colaboratory.intrinsic+json": {
              "type": "string"
            },
            "text/plain": [
              "'0010010 [...] [...] [...] [...] 010 [...] 0010010'"
            ]
          },
          "metadata": {
            "tags": []
          },
          "execution_count": 111
        }
      ]
    },
    {
      "cell_type": "code",
      "metadata": {
        "colab": {
          "base_uri": "https://localhost:8080/",
          "height": 35
        },
        "id": "wfbLfXl419Wa",
        "outputId": "8f7bbc71-9e1f-498e-ddab-8e917af4335a"
      },
      "source": [
        "re.sub(r'[a-z]+','[...]','0010010 Has at least one 010 letter 0010010',re.I)"
      ],
      "execution_count": null,
      "outputs": [
        {
          "output_type": "execute_result",
          "data": {
            "application/vnd.google.colaboratory.intrinsic+json": {
              "type": "string"
            },
            "text/plain": [
              "'0010010 H[...] [...] least one 010 letter 0010010'"
            ]
          },
          "metadata": {
            "tags": []
          },
          "execution_count": 112
        }
      ]
    },
    {
      "cell_type": "markdown",
      "metadata": {
        "id": "O9oWE7iT572x"
      },
      "source": [
        "Q. '010-abcd-0100'에서 abcd값을 ****로"
      ]
    },
    {
      "cell_type": "code",
      "metadata": {
        "colab": {
          "base_uri": "https://localhost:8080/",
          "height": 35
        },
        "id": "3bLcC2p62CBX",
        "outputId": "d49c74b2-6865-4125-ddcf-382d16bb1424"
      },
      "source": [
        "re.sub(r'[a-z]+','****','010-abcd-0100')"
      ],
      "execution_count": null,
      "outputs": [
        {
          "output_type": "execute_result",
          "data": {
            "application/vnd.google.colaboratory.intrinsic+json": {
              "type": "string"
            },
            "text/plain": [
              "'010-****-0100'"
            ]
          },
          "metadata": {
            "tags": []
          },
          "execution_count": 113
        }
      ]
    },
    {
      "cell_type": "code",
      "metadata": {
        "colab": {
          "base_uri": "https://localhost:8080/",
          "height": 35
        },
        "id": "Ls-CkjCN5y9f",
        "outputId": "e76f7e59-5e45-4b28-8a86-c47d1927b7f6"
      },
      "source": [
        "re.sub(r'\\D+','****','010-abcd-0100')"
      ],
      "execution_count": null,
      "outputs": [
        {
          "output_type": "execute_result",
          "data": {
            "application/vnd.google.colaboratory.intrinsic+json": {
              "type": "string"
            },
            "text/plain": [
              "'010****0100'"
            ]
          },
          "metadata": {
            "tags": []
          },
          "execution_count": 118
        }
      ]
    },
    {
      "cell_type": "code",
      "metadata": {
        "colab": {
          "base_uri": "https://localhost:8080/",
          "height": 35
        },
        "id": "Am7tUofQ5VHA",
        "outputId": "7438f50f-aa81-46c2-bb85-3a38ccf26ceb"
      },
      "source": [
        "re.sub(r'[a-z]','****','010-abcd-0100')"
      ],
      "execution_count": null,
      "outputs": [
        {
          "output_type": "execute_result",
          "data": {
            "application/vnd.google.colaboratory.intrinsic+json": {
              "type": "string"
            },
            "text/plain": [
              "'010-****************-0100'"
            ]
          },
          "metadata": {
            "tags": []
          },
          "execution_count": 114
        }
      ]
    },
    {
      "cell_type": "markdown",
      "metadata": {
        "id": "69e1SnoD6KWA"
      },
      "source": [
        "Q. '010-abcd-0100'에서 숫자를 ****로"
      ]
    },
    {
      "cell_type": "code",
      "metadata": {
        "colab": {
          "base_uri": "https://localhost:8080/",
          "height": 35
        },
        "id": "HfKea-vv5an8",
        "outputId": "2ebbfcb6-defc-4b9c-88cf-ffdad6629a53"
      },
      "source": [
        "re.sub(r'\\d+','****','010-abcd-0100')"
      ],
      "execution_count": null,
      "outputs": [
        {
          "output_type": "execute_result",
          "data": {
            "application/vnd.google.colaboratory.intrinsic+json": {
              "type": "string"
            },
            "text/plain": [
              "'****-abcd-****'"
            ]
          },
          "metadata": {
            "tags": []
          },
          "execution_count": 116
        }
      ]
    },
    {
      "cell_type": "code",
      "metadata": {
        "colab": {
          "base_uri": "https://localhost:8080/",
          "height": 35
        },
        "id": "sNqgPNam5ktr",
        "outputId": "30bf8473-e11b-4b6d-dfc1-ff4652055991"
      },
      "source": [
        "re.sub(r'[0-9]+','****','010-abcd-0100')"
      ],
      "execution_count": null,
      "outputs": [
        {
          "output_type": "execute_result",
          "data": {
            "application/vnd.google.colaboratory.intrinsic+json": {
              "type": "string"
            },
            "text/plain": [
              "'****-abcd-****'"
            ]
          },
          "metadata": {
            "tags": []
          },
          "execution_count": 117
        }
      ]
    },
    {
      "cell_type": "code",
      "metadata": {
        "colab": {
          "base_uri": "https://localhost:8080/",
          "height": 35
        },
        "id": "iL-eHXkb6vSy",
        "outputId": "3feb0d37-383a-4b32-d283-4e7abbb26134"
      },
      "source": [
        "re.sub(r'[0-9]','****','010-abcd-0100')"
      ],
      "execution_count": null,
      "outputs": [
        {
          "output_type": "execute_result",
          "data": {
            "application/vnd.google.colaboratory.intrinsic+json": {
              "type": "string"
            },
            "text/plain": [
              "'************-abcd-****************'"
            ]
          },
          "metadata": {
            "tags": []
          },
          "execution_count": 119
        }
      ]
    },
    {
      "cell_type": "markdown",
      "metadata": {
        "id": "598lOQok6_D0"
      },
      "source": [
        "**글로빙**\n",
        "\n",
        "\n",
        "> 정규 표현식으로 쓰인 파일명이나 와일드카드를 매칭하는 과정\n",
        "\n",
        "\n",
        "> glob모듈: 와일드카드 매칭에 사용하는 동명의 함수를 제공\n",
        "\n",
        "\n",
        "> 특정한 파일명으로 매칭할 때에는 .*와일드 카드 사용\n",
        "\n",
        "\n",
        "\n",
        "\n",
        "\n"
      ]
    },
    {
      "cell_type": "markdown",
      "metadata": {
        "id": "mpTMFewj8uhs"
      },
      "source": [
        "pickle로 데이터 압축하기"
      ]
    }
  ]
}